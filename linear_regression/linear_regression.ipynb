{
 "metadata": {
  "language_info": {
   "codemirror_mode": {
    "name": "ipython",
    "version": 3
   },
   "file_extension": ".py",
   "mimetype": "text/x-python",
   "name": "python",
   "nbconvert_exporter": "python",
   "pygments_lexer": "ipython3",
   "version": "3.8.5"
  },
  "orig_nbformat": 2,
  "kernelspec": {
   "name": "python385jvsc74a57bd0dca0ade3e726a953b501b15e8e990130d2b7799f14cfd9f4271676035ebe5511",
   "display_name": "Python 3.8.5 64-bit ('base': conda)"
  },
  "metadata": {
   "interpreter": {
    "hash": "0adcc2737ebf6a4a119f135174df96668767fca1ef1112612db5ecadf2b6d608"
   }
  }
 },
 "nbformat": 4,
 "nbformat_minor": 2,
 "cells": [
  {
   "source": [
    "# Linear Regression"
   ],
   "cell_type": "markdown",
   "metadata": {}
  },
  {
   "source": [
    "## Overview"
   ],
   "cell_type": "markdown",
   "metadata": {}
  },
  {
   "source": [
    "This Jupyter Notebook intends to identify the relationships between several attributes and their effects on student performance, specifically their final grade. The kernel uses Python 3.8.5."
   ],
   "cell_type": "markdown",
   "metadata": {}
  },
  {
   "source": [
    "## Research Question"
   ],
   "cell_type": "markdown",
   "metadata": {}
  },
  {
   "source": [
    "What is the relationship between ## TODO"
   ],
   "cell_type": "markdown",
   "metadata": {}
  },
  {
   "source": [
    "## Dataset"
   ],
   "cell_type": "markdown",
   "metadata": {}
  },
  {
   "source": [
    "- Dataset Name: Student Performance Data Set\n",
    "- Link to the dataset: https://archive.ics.uci.edu/ml/datasets/Student+Performance#\n",
    "- Number of observations: 395\n",
    "- Description: This dataset includes data about student performance in their mathematics class in Portuguese secondary school. The variables include (but are not limited to) study time, free time, number of absences, health status, and final grade."
   ],
   "cell_type": "markdown",
   "metadata": {}
  },
  {
   "source": [
    "## Setup"
   ],
   "cell_type": "markdown",
   "metadata": {}
  },
  {
   "cell_type": "code",
   "execution_count": 362,
   "metadata": {},
   "outputs": [],
   "source": [
    "# imports\n",
    "import pandas as pd\n",
    "import numpy as np\n",
    "import sklearn\n",
    "from sklearn import linear_model\n",
    "from sklearn.utils import shuffle\n",
    "from matplotlib import pyplot as plt"
   ]
  },
  {
   "cell_type": "code",
   "execution_count": 363,
   "metadata": {},
   "outputs": [],
   "source": [
    "# default is 10; Set to None to display all rows/cols in dataframes\n",
    "pd.set_option('display.max_rows', 10)\n",
    "pd.set_option('display.max_columns', 10)"
   ]
  },
  {
   "source": [
    "Read in the dataset that will be cleaned and analyzed."
   ],
   "cell_type": "markdown",
   "metadata": {}
  },
  {
   "cell_type": "code",
   "execution_count": 364,
   "metadata": {},
   "outputs": [],
   "source": [
    "student_data = pd.read_csv(\"student-mat.csv\", sep=\";\")\n"
   ]
  },
  {
   "cell_type": "code",
   "execution_count": 365,
   "metadata": {},
   "outputs": [
    {
     "output_type": "execute_result",
     "data": {
      "text/plain": [
       "    school sex  age address famsize  ... health  absences  G1  G2  G3\n",
       "0       GP   F   18       U     GT3  ...      3         6   5   6   6\n",
       "1       GP   F   17       U     GT3  ...      3         4   5   5   6\n",
       "2       GP   F   15       U     LE3  ...      3        10   7   8  10\n",
       "3       GP   F   15       U     GT3  ...      5         2  15  14  15\n",
       "4       GP   F   16       U     GT3  ...      5         4   6  10  10\n",
       "..     ...  ..  ...     ...     ...  ...    ...       ...  ..  ..  ..\n",
       "390     MS   M   20       U     LE3  ...      4        11   9   9   9\n",
       "391     MS   M   17       U     LE3  ...      2         3  14  16  16\n",
       "392     MS   M   21       R     GT3  ...      3         3  10   8   7\n",
       "393     MS   M   18       R     LE3  ...      5         0  11  12  10\n",
       "394     MS   M   19       U     LE3  ...      5         5   8   9   9\n",
       "\n",
       "[395 rows x 33 columns]"
      ],
      "text/html": "<div>\n<style scoped>\n    .dataframe tbody tr th:only-of-type {\n        vertical-align: middle;\n    }\n\n    .dataframe tbody tr th {\n        vertical-align: top;\n    }\n\n    .dataframe thead th {\n        text-align: right;\n    }\n</style>\n<table border=\"1\" class=\"dataframe\">\n  <thead>\n    <tr style=\"text-align: right;\">\n      <th></th>\n      <th>school</th>\n      <th>sex</th>\n      <th>age</th>\n      <th>address</th>\n      <th>famsize</th>\n      <th>...</th>\n      <th>health</th>\n      <th>absences</th>\n      <th>G1</th>\n      <th>G2</th>\n      <th>G3</th>\n    </tr>\n  </thead>\n  <tbody>\n    <tr>\n      <th>0</th>\n      <td>GP</td>\n      <td>F</td>\n      <td>18</td>\n      <td>U</td>\n      <td>GT3</td>\n      <td>...</td>\n      <td>3</td>\n      <td>6</td>\n      <td>5</td>\n      <td>6</td>\n      <td>6</td>\n    </tr>\n    <tr>\n      <th>1</th>\n      <td>GP</td>\n      <td>F</td>\n      <td>17</td>\n      <td>U</td>\n      <td>GT3</td>\n      <td>...</td>\n      <td>3</td>\n      <td>4</td>\n      <td>5</td>\n      <td>5</td>\n      <td>6</td>\n    </tr>\n    <tr>\n      <th>2</th>\n      <td>GP</td>\n      <td>F</td>\n      <td>15</td>\n      <td>U</td>\n      <td>LE3</td>\n      <td>...</td>\n      <td>3</td>\n      <td>10</td>\n      <td>7</td>\n      <td>8</td>\n      <td>10</td>\n    </tr>\n    <tr>\n      <th>3</th>\n      <td>GP</td>\n      <td>F</td>\n      <td>15</td>\n      <td>U</td>\n      <td>GT3</td>\n      <td>...</td>\n      <td>5</td>\n      <td>2</td>\n      <td>15</td>\n      <td>14</td>\n      <td>15</td>\n    </tr>\n    <tr>\n      <th>4</th>\n      <td>GP</td>\n      <td>F</td>\n      <td>16</td>\n      <td>U</td>\n      <td>GT3</td>\n      <td>...</td>\n      <td>5</td>\n      <td>4</td>\n      <td>6</td>\n      <td>10</td>\n      <td>10</td>\n    </tr>\n    <tr>\n      <th>...</th>\n      <td>...</td>\n      <td>...</td>\n      <td>...</td>\n      <td>...</td>\n      <td>...</td>\n      <td>...</td>\n      <td>...</td>\n      <td>...</td>\n      <td>...</td>\n      <td>...</td>\n      <td>...</td>\n    </tr>\n    <tr>\n      <th>390</th>\n      <td>MS</td>\n      <td>M</td>\n      <td>20</td>\n      <td>U</td>\n      <td>LE3</td>\n      <td>...</td>\n      <td>4</td>\n      <td>11</td>\n      <td>9</td>\n      <td>9</td>\n      <td>9</td>\n    </tr>\n    <tr>\n      <th>391</th>\n      <td>MS</td>\n      <td>M</td>\n      <td>17</td>\n      <td>U</td>\n      <td>LE3</td>\n      <td>...</td>\n      <td>2</td>\n      <td>3</td>\n      <td>14</td>\n      <td>16</td>\n      <td>16</td>\n    </tr>\n    <tr>\n      <th>392</th>\n      <td>MS</td>\n      <td>M</td>\n      <td>21</td>\n      <td>R</td>\n      <td>GT3</td>\n      <td>...</td>\n      <td>3</td>\n      <td>3</td>\n      <td>10</td>\n      <td>8</td>\n      <td>7</td>\n    </tr>\n    <tr>\n      <th>393</th>\n      <td>MS</td>\n      <td>M</td>\n      <td>18</td>\n      <td>R</td>\n      <td>LE3</td>\n      <td>...</td>\n      <td>5</td>\n      <td>0</td>\n      <td>11</td>\n      <td>12</td>\n      <td>10</td>\n    </tr>\n    <tr>\n      <th>394</th>\n      <td>MS</td>\n      <td>M</td>\n      <td>19</td>\n      <td>U</td>\n      <td>LE3</td>\n      <td>...</td>\n      <td>5</td>\n      <td>5</td>\n      <td>8</td>\n      <td>9</td>\n      <td>9</td>\n    </tr>\n  </tbody>\n</table>\n<p>395 rows × 33 columns</p>\n</div>"
     },
     "metadata": {},
     "execution_count": 365
    }
   ],
   "source": [
    "student_data"
   ]
  },
  {
   "cell_type": "code",
   "execution_count": 366,
   "metadata": {},
   "outputs": [
    {
     "output_type": "execute_result",
     "data": {
      "text/plain": [
       "Index(['school', 'sex', 'age', 'address', 'famsize', 'Pstatus', 'Medu', 'Fedu',\n",
       "       'Mjob', 'Fjob', 'reason', 'guardian', 'traveltime', 'studytime',\n",
       "       'failures', 'schoolsup', 'famsup', 'paid', 'activities', 'nursery',\n",
       "       'higher', 'internet', 'romantic', 'famrel', 'freetime', 'goout', 'Dalc',\n",
       "       'Walc', 'health', 'absences', 'G1', 'G2', 'G3'],\n",
       "      dtype='object')"
      ]
     },
     "metadata": {},
     "execution_count": 366
    }
   ],
   "source": [
    "student_data.columns"
   ]
  },
  {
   "source": [
    "## Data Cleaning"
   ],
   "cell_type": "markdown",
   "metadata": {}
  },
  {
   "source": [
    "Only keep columns with information that I will be using. Rename these columns for understandability."
   ],
   "cell_type": "markdown",
   "metadata": {}
  },
  {
   "cell_type": "code",
   "execution_count": 367,
   "metadata": {},
   "outputs": [],
   "source": [
    "student_data = student_data[[\"studytime\", \"freetime\", \"goout\", \"Dalc\", \"Walc\", \"G3\"]]\n",
    "student_data.columns = [\"study_time\", \"free_time\", \"go_out\", \"weekday_alc\", \"weekend_alc\", \"final_grade\"]"
   ]
  },
  {
   "cell_type": "code",
   "execution_count": 368,
   "metadata": {},
   "outputs": [
    {
     "output_type": "execute_result",
     "data": {
      "text/plain": [
       "     study_time  free_time  go_out  weekday_alc  weekend_alc  final_grade\n",
       "0             2          3       4            1            1            6\n",
       "1             2          3       3            1            1            6\n",
       "2             2          3       2            2            3           10\n",
       "3             3          2       2            1            1           15\n",
       "4             2          3       2            1            2           10\n",
       "..          ...        ...     ...          ...          ...          ...\n",
       "390           2          5       4            4            5            9\n",
       "391           1          4       5            3            4           16\n",
       "392           1          5       3            3            3            7\n",
       "393           1          4       1            3            4           10\n",
       "394           1          2       3            3            3            9\n",
       "\n",
       "[395 rows x 6 columns]"
      ],
      "text/html": "<div>\n<style scoped>\n    .dataframe tbody tr th:only-of-type {\n        vertical-align: middle;\n    }\n\n    .dataframe tbody tr th {\n        vertical-align: top;\n    }\n\n    .dataframe thead th {\n        text-align: right;\n    }\n</style>\n<table border=\"1\" class=\"dataframe\">\n  <thead>\n    <tr style=\"text-align: right;\">\n      <th></th>\n      <th>study_time</th>\n      <th>free_time</th>\n      <th>go_out</th>\n      <th>weekday_alc</th>\n      <th>weekend_alc</th>\n      <th>final_grade</th>\n    </tr>\n  </thead>\n  <tbody>\n    <tr>\n      <th>0</th>\n      <td>2</td>\n      <td>3</td>\n      <td>4</td>\n      <td>1</td>\n      <td>1</td>\n      <td>6</td>\n    </tr>\n    <tr>\n      <th>1</th>\n      <td>2</td>\n      <td>3</td>\n      <td>3</td>\n      <td>1</td>\n      <td>1</td>\n      <td>6</td>\n    </tr>\n    <tr>\n      <th>2</th>\n      <td>2</td>\n      <td>3</td>\n      <td>2</td>\n      <td>2</td>\n      <td>3</td>\n      <td>10</td>\n    </tr>\n    <tr>\n      <th>3</th>\n      <td>3</td>\n      <td>2</td>\n      <td>2</td>\n      <td>1</td>\n      <td>1</td>\n      <td>15</td>\n    </tr>\n    <tr>\n      <th>4</th>\n      <td>2</td>\n      <td>3</td>\n      <td>2</td>\n      <td>1</td>\n      <td>2</td>\n      <td>10</td>\n    </tr>\n    <tr>\n      <th>...</th>\n      <td>...</td>\n      <td>...</td>\n      <td>...</td>\n      <td>...</td>\n      <td>...</td>\n      <td>...</td>\n    </tr>\n    <tr>\n      <th>390</th>\n      <td>2</td>\n      <td>5</td>\n      <td>4</td>\n      <td>4</td>\n      <td>5</td>\n      <td>9</td>\n    </tr>\n    <tr>\n      <th>391</th>\n      <td>1</td>\n      <td>4</td>\n      <td>5</td>\n      <td>3</td>\n      <td>4</td>\n      <td>16</td>\n    </tr>\n    <tr>\n      <th>392</th>\n      <td>1</td>\n      <td>5</td>\n      <td>3</td>\n      <td>3</td>\n      <td>3</td>\n      <td>7</td>\n    </tr>\n    <tr>\n      <th>393</th>\n      <td>1</td>\n      <td>4</td>\n      <td>1</td>\n      <td>3</td>\n      <td>4</td>\n      <td>10</td>\n    </tr>\n    <tr>\n      <th>394</th>\n      <td>1</td>\n      <td>2</td>\n      <td>3</td>\n      <td>3</td>\n      <td>3</td>\n      <td>9</td>\n    </tr>\n  </tbody>\n</table>\n<p>395 rows × 6 columns</p>\n</div>"
     },
     "metadata": {},
     "execution_count": 368
    }
   ],
   "source": [
    "student_data"
   ]
  },
  {
   "source": [
    "## Data Analysis & Results"
   ],
   "cell_type": "markdown",
   "metadata": {}
  },
  {
   "source": [
    "Look at some of the dataset statistics to gain a better understanding."
   ],
   "cell_type": "markdown",
   "metadata": {}
  },
  {
   "cell_type": "code",
   "execution_count": 369,
   "metadata": {},
   "outputs": [
    {
     "output_type": "execute_result",
     "data": {
      "text/plain": [
       "       study_time   free_time      go_out  weekday_alc  weekend_alc  \\\n",
       "count  395.000000  395.000000  395.000000   395.000000   395.000000   \n",
       "mean     2.035443    3.235443    3.108861     1.481013     2.291139   \n",
       "std      0.839240    0.998862    1.113278     0.890741     1.287897   \n",
       "min      1.000000    1.000000    1.000000     1.000000     1.000000   \n",
       "25%      1.000000    3.000000    2.000000     1.000000     1.000000   \n",
       "50%      2.000000    3.000000    3.000000     1.000000     2.000000   \n",
       "75%      2.000000    4.000000    4.000000     2.000000     3.000000   \n",
       "max      4.000000    5.000000    5.000000     5.000000     5.000000   \n",
       "\n",
       "       final_grade  \n",
       "count   395.000000  \n",
       "mean     10.415190  \n",
       "std       4.581443  \n",
       "min       0.000000  \n",
       "25%       8.000000  \n",
       "50%      11.000000  \n",
       "75%      14.000000  \n",
       "max      20.000000  "
      ],
      "text/html": "<div>\n<style scoped>\n    .dataframe tbody tr th:only-of-type {\n        vertical-align: middle;\n    }\n\n    .dataframe tbody tr th {\n        vertical-align: top;\n    }\n\n    .dataframe thead th {\n        text-align: right;\n    }\n</style>\n<table border=\"1\" class=\"dataframe\">\n  <thead>\n    <tr style=\"text-align: right;\">\n      <th></th>\n      <th>study_time</th>\n      <th>free_time</th>\n      <th>go_out</th>\n      <th>weekday_alc</th>\n      <th>weekend_alc</th>\n      <th>final_grade</th>\n    </tr>\n  </thead>\n  <tbody>\n    <tr>\n      <th>count</th>\n      <td>395.000000</td>\n      <td>395.000000</td>\n      <td>395.000000</td>\n      <td>395.000000</td>\n      <td>395.000000</td>\n      <td>395.000000</td>\n    </tr>\n    <tr>\n      <th>mean</th>\n      <td>2.035443</td>\n      <td>3.235443</td>\n      <td>3.108861</td>\n      <td>1.481013</td>\n      <td>2.291139</td>\n      <td>10.415190</td>\n    </tr>\n    <tr>\n      <th>std</th>\n      <td>0.839240</td>\n      <td>0.998862</td>\n      <td>1.113278</td>\n      <td>0.890741</td>\n      <td>1.287897</td>\n      <td>4.581443</td>\n    </tr>\n    <tr>\n      <th>min</th>\n      <td>1.000000</td>\n      <td>1.000000</td>\n      <td>1.000000</td>\n      <td>1.000000</td>\n      <td>1.000000</td>\n      <td>0.000000</td>\n    </tr>\n    <tr>\n      <th>25%</th>\n      <td>1.000000</td>\n      <td>3.000000</td>\n      <td>2.000000</td>\n      <td>1.000000</td>\n      <td>1.000000</td>\n      <td>8.000000</td>\n    </tr>\n    <tr>\n      <th>50%</th>\n      <td>2.000000</td>\n      <td>3.000000</td>\n      <td>3.000000</td>\n      <td>1.000000</td>\n      <td>2.000000</td>\n      <td>11.000000</td>\n    </tr>\n    <tr>\n      <th>75%</th>\n      <td>2.000000</td>\n      <td>4.000000</td>\n      <td>4.000000</td>\n      <td>2.000000</td>\n      <td>3.000000</td>\n      <td>14.000000</td>\n    </tr>\n    <tr>\n      <th>max</th>\n      <td>4.000000</td>\n      <td>5.000000</td>\n      <td>5.000000</td>\n      <td>5.000000</td>\n      <td>5.000000</td>\n      <td>20.000000</td>\n    </tr>\n  </tbody>\n</table>\n</div>"
     },
     "metadata": {},
     "execution_count": 369
    }
   ],
   "source": [
    "student_data.describe()"
   ]
  },
  {
   "cell_type": "code",
   "execution_count": 370,
   "metadata": {},
   "outputs": [],
   "source": [
    "predict_label = \"final_grade\"\n",
    "X = np.array(student_data.drop(predict_label, axis=1))\n",
    "y = np.array(student_data[predict_label])"
   ]
  },
  {
   "cell_type": "code",
   "execution_count": 371,
   "metadata": {},
   "outputs": [],
   "source": [
    "# split into training and test sets (90/10 split)\n",
    "X_train, X_test, y_train, y_test = sklearn.model_selection.train_test_split(X, y, test_size=0.1)"
   ]
  },
  {
   "cell_type": "code",
   "execution_count": 372,
   "metadata": {},
   "outputs": [
    {
     "output_type": "execute_result",
     "data": {
      "text/plain": [
       "array([[2, 5, 4, 2, 3],\n",
       "       [2, 5, 2, 1, 1],\n",
       "       [2, 4, 4, 3, 3],\n",
       "       ...,\n",
       "       [2, 3, 2, 2, 3],\n",
       "       [3, 2, 3, 1, 2],\n",
       "       [3, 3, 3, 1, 3]])"
      ]
     },
     "metadata": {},
     "execution_count": 372
    }
   ],
   "source": [
    "X_train"
   ]
  },
  {
   "cell_type": "code",
   "execution_count": 373,
   "metadata": {},
   "outputs": [
    {
     "output_type": "stream",
     "name": "stdout",
     "text": [
      "-0.05155725409994982\n[ 0.6228324   0.41950132 -0.74029917 -0.32737772  0.31446181]\n9.807665598878112\n"
     ]
    }
   ],
   "source": [
    "# fit a linear model\n",
    "reg = linear_model.LinearRegression().fit(X_train, y_train)\n",
    "accuracy = reg.score(X_test, y_test)\n",
    "print(accuracy)\n",
    "print(reg.coef_)\n",
    "print(reg.intercept_)"
   ]
  },
  {
   "cell_type": "code",
   "execution_count": 374,
   "metadata": {},
   "outputs": [
    {
     "output_type": "stream",
     "name": "stdout",
     "text": [
      "[1 2 2 1 1] 9.775986380765659 13\n[2 2 4 1 4] 9.861605865630892 8\n[1 4 5 3 4] 8.682721481085752 16\n[2 4 3 2 3] 10.79906813438315 12\n[1 3 4 4 4] 8.67614160686699 13\n[1 5 5 3 4] 9.102222797199161 10\n[1 3 3 1 1] 9.455188530518337 14\n[2 4 3 1 2] 10.811984053480023 15\n[1 3 5 3 5] 8.577681970341551 16\n[1 2 2 1 3] 10.404909991504082 8\n[1 4 1 3 4] 11.643918146528684 10\n[2 2 4 2 4] 9.534228141164808 13\n[1 3 3 1 2] 9.76965033588755 0\n[2 3 2 1 1] 10.818320098358132 15\n[1 3 3 1 2] 9.76965033588755 11\n[2 3 5 2 4] 9.213430290917486 10\n[2 3 3 2 2] 10.065105012900528 0\n[1 4 3 1 1] 9.874689846631748 15\n[2 3 1 1 1] 11.558619264718866 11\n[3 4 3 1 1] 11.120354649589872 11\n[2 4 2 1 1] 11.237821414471544 9\n[3 3 3 1 1] 10.700853333476463 12\n[2 5 4 4 5] 10.452438445942086 9\n[1 2 3 1 2] 9.350149019774138 10\n[2 4 3 1 1] 10.49752224811081 15\n[1 3 1 1 1] 10.935786863239802 13\n[2 1 1 1 1] 10.719616632492043 9\n[2 3 3 2 3] 10.37956681826974 10\n[1 4 4 1 2] 9.448852485640227 14\n[2 5 2 2 2] 11.644406811488082 14\n[2 5 4 3 5] 10.77981617040817 0\n[2 3 4 1 1] 9.337721765636667 14\n[2 2 2 4 2] 9.731147414215682 11\n[2 3 5 1 1] 8.597422599275934 6\n[2 4 4 4 4] 9.718475324459463 9\n[2 3 2 1 1] 10.818320098358132 15\n[4 3 4 1 1] 10.583386568594792 14\n[1 4 3 1 3] 10.503613457370172 7\n[1 5 4 1 1] 9.553891996384426 0\n[2 4 4 1 3] 10.386146692488502 12\n"
     ]
    }
   ],
   "source": [
    "# predict grades of test inputs\n",
    "pred_grades = reg.predict(X_test)\n",
    "for i in range(len(pred_grades)):\n",
    "    print(X_test[i], pred_grades[i], y_test[i])"
   ]
  }
 ]
}