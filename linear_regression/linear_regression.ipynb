{
 "metadata": {
  "language_info": {
   "codemirror_mode": {
    "name": "ipython",
    "version": 3
   },
   "file_extension": ".py",
   "mimetype": "text/x-python",
   "name": "python",
   "nbconvert_exporter": "python",
   "pygments_lexer": "ipython3",
   "version": "3.8.5"
  },
  "orig_nbformat": 2,
  "kernelspec": {
   "name": "python385jvsc74a57bd0dca0ade3e726a953b501b15e8e990130d2b7799f14cfd9f4271676035ebe5511",
   "display_name": "Python 3.8.5 64-bit ('base': conda)"
  },
  "metadata": {
   "interpreter": {
    "hash": "0adcc2737ebf6a4a119f135174df96668767fca1ef1112612db5ecadf2b6d608"
   }
  }
 },
 "nbformat": 4,
 "nbformat_minor": 2,
 "cells": [
  {
   "source": [
    "# Linear Regression"
   ],
   "cell_type": "markdown",
   "metadata": {}
  },
  {
   "source": [
    "## Overview"
   ],
   "cell_type": "markdown",
   "metadata": {}
  },
  {
   "source": [
    "This Jupyter Notebook intends to identify the relationships between several attributes and their effects on student performance, specifically their final grade. The kernel uses Python 3.8.5."
   ],
   "cell_type": "markdown",
   "metadata": {}
  },
  {
   "source": [
    "## Research Question"
   ],
   "cell_type": "markdown",
   "metadata": {}
  },
  {
   "source": [
    "What is the relationship between ## TODO"
   ],
   "cell_type": "markdown",
   "metadata": {}
  },
  {
   "source": [
    "## Dataset"
   ],
   "cell_type": "markdown",
   "metadata": {}
  },
  {
   "source": [
    "- Dataset Name: Student Performance Data Set\n",
    "- Link to the dataset: https://archive.ics.uci.edu/ml/datasets/Student+Performance#\n",
    "- Number of observations: 395\n",
    "- Description: This dataset includes data about student performance in their mathematics class in Portuguese secondary school. The variables include (but are not limited to) study time, free time, number of absences, health status, and final grade."
   ],
   "cell_type": "markdown",
   "metadata": {}
  },
  {
   "source": [
    "## Setup"
   ],
   "cell_type": "markdown",
   "metadata": {}
  },
  {
   "cell_type": "code",
   "execution_count": 81,
   "metadata": {},
   "outputs": [],
   "source": [
    "# imports\n",
    "import pandas as pd\n",
    "import numpy as np\n",
    "import sklearn\n",
    "from sklearn import linear_model\n",
    "from sklearn.utils import shuffle\n",
    "from matplotlib import pyplot as plt\n",
    "from matplotlib import style\n",
    "import pickle\n"
   ]
  },
  {
   "cell_type": "code",
   "execution_count": 82,
   "metadata": {},
   "outputs": [],
   "source": [
    "# default is 10; Set to None to display all rows/cols in dataframes\n",
    "pd.set_option('display.max_rows', 10)\n",
    "pd.set_option('display.max_columns', 10)"
   ]
  },
  {
   "source": [
    "Read in the dataset that will be cleaned and analyzed."
   ],
   "cell_type": "markdown",
   "metadata": {}
  },
  {
   "cell_type": "code",
   "execution_count": 83,
   "metadata": {},
   "outputs": [],
   "source": [
    "student_data = pd.read_csv(\"student-mat.csv\", sep=\";\")\n"
   ]
  },
  {
   "cell_type": "code",
   "execution_count": 84,
   "metadata": {},
   "outputs": [
    {
     "output_type": "execute_result",
     "data": {
      "text/plain": [
       "    school sex  age address famsize  ... health  absences  G1  G2  G3\n",
       "0       GP   F   18       U     GT3  ...      3         6   5   6   6\n",
       "1       GP   F   17       U     GT3  ...      3         4   5   5   6\n",
       "2       GP   F   15       U     LE3  ...      3        10   7   8  10\n",
       "3       GP   F   15       U     GT3  ...      5         2  15  14  15\n",
       "4       GP   F   16       U     GT3  ...      5         4   6  10  10\n",
       "..     ...  ..  ...     ...     ...  ...    ...       ...  ..  ..  ..\n",
       "390     MS   M   20       U     LE3  ...      4        11   9   9   9\n",
       "391     MS   M   17       U     LE3  ...      2         3  14  16  16\n",
       "392     MS   M   21       R     GT3  ...      3         3  10   8   7\n",
       "393     MS   M   18       R     LE3  ...      5         0  11  12  10\n",
       "394     MS   M   19       U     LE3  ...      5         5   8   9   9\n",
       "\n",
       "[395 rows x 33 columns]"
      ],
      "text/html": "<div>\n<style scoped>\n    .dataframe tbody tr th:only-of-type {\n        vertical-align: middle;\n    }\n\n    .dataframe tbody tr th {\n        vertical-align: top;\n    }\n\n    .dataframe thead th {\n        text-align: right;\n    }\n</style>\n<table border=\"1\" class=\"dataframe\">\n  <thead>\n    <tr style=\"text-align: right;\">\n      <th></th>\n      <th>school</th>\n      <th>sex</th>\n      <th>age</th>\n      <th>address</th>\n      <th>famsize</th>\n      <th>...</th>\n      <th>health</th>\n      <th>absences</th>\n      <th>G1</th>\n      <th>G2</th>\n      <th>G3</th>\n    </tr>\n  </thead>\n  <tbody>\n    <tr>\n      <th>0</th>\n      <td>GP</td>\n      <td>F</td>\n      <td>18</td>\n      <td>U</td>\n      <td>GT3</td>\n      <td>...</td>\n      <td>3</td>\n      <td>6</td>\n      <td>5</td>\n      <td>6</td>\n      <td>6</td>\n    </tr>\n    <tr>\n      <th>1</th>\n      <td>GP</td>\n      <td>F</td>\n      <td>17</td>\n      <td>U</td>\n      <td>GT3</td>\n      <td>...</td>\n      <td>3</td>\n      <td>4</td>\n      <td>5</td>\n      <td>5</td>\n      <td>6</td>\n    </tr>\n    <tr>\n      <th>2</th>\n      <td>GP</td>\n      <td>F</td>\n      <td>15</td>\n      <td>U</td>\n      <td>LE3</td>\n      <td>...</td>\n      <td>3</td>\n      <td>10</td>\n      <td>7</td>\n      <td>8</td>\n      <td>10</td>\n    </tr>\n    <tr>\n      <th>3</th>\n      <td>GP</td>\n      <td>F</td>\n      <td>15</td>\n      <td>U</td>\n      <td>GT3</td>\n      <td>...</td>\n      <td>5</td>\n      <td>2</td>\n      <td>15</td>\n      <td>14</td>\n      <td>15</td>\n    </tr>\n    <tr>\n      <th>4</th>\n      <td>GP</td>\n      <td>F</td>\n      <td>16</td>\n      <td>U</td>\n      <td>GT3</td>\n      <td>...</td>\n      <td>5</td>\n      <td>4</td>\n      <td>6</td>\n      <td>10</td>\n      <td>10</td>\n    </tr>\n    <tr>\n      <th>...</th>\n      <td>...</td>\n      <td>...</td>\n      <td>...</td>\n      <td>...</td>\n      <td>...</td>\n      <td>...</td>\n      <td>...</td>\n      <td>...</td>\n      <td>...</td>\n      <td>...</td>\n      <td>...</td>\n    </tr>\n    <tr>\n      <th>390</th>\n      <td>MS</td>\n      <td>M</td>\n      <td>20</td>\n      <td>U</td>\n      <td>LE3</td>\n      <td>...</td>\n      <td>4</td>\n      <td>11</td>\n      <td>9</td>\n      <td>9</td>\n      <td>9</td>\n    </tr>\n    <tr>\n      <th>391</th>\n      <td>MS</td>\n      <td>M</td>\n      <td>17</td>\n      <td>U</td>\n      <td>LE3</td>\n      <td>...</td>\n      <td>2</td>\n      <td>3</td>\n      <td>14</td>\n      <td>16</td>\n      <td>16</td>\n    </tr>\n    <tr>\n      <th>392</th>\n      <td>MS</td>\n      <td>M</td>\n      <td>21</td>\n      <td>R</td>\n      <td>GT3</td>\n      <td>...</td>\n      <td>3</td>\n      <td>3</td>\n      <td>10</td>\n      <td>8</td>\n      <td>7</td>\n    </tr>\n    <tr>\n      <th>393</th>\n      <td>MS</td>\n      <td>M</td>\n      <td>18</td>\n      <td>R</td>\n      <td>LE3</td>\n      <td>...</td>\n      <td>5</td>\n      <td>0</td>\n      <td>11</td>\n      <td>12</td>\n      <td>10</td>\n    </tr>\n    <tr>\n      <th>394</th>\n      <td>MS</td>\n      <td>M</td>\n      <td>19</td>\n      <td>U</td>\n      <td>LE3</td>\n      <td>...</td>\n      <td>5</td>\n      <td>5</td>\n      <td>8</td>\n      <td>9</td>\n      <td>9</td>\n    </tr>\n  </tbody>\n</table>\n<p>395 rows × 33 columns</p>\n</div>"
     },
     "metadata": {},
     "execution_count": 84
    }
   ],
   "source": [
    "student_data"
   ]
  },
  {
   "cell_type": "code",
   "execution_count": 85,
   "metadata": {},
   "outputs": [
    {
     "output_type": "execute_result",
     "data": {
      "text/plain": [
       "Index(['school', 'sex', 'age', 'address', 'famsize', 'Pstatus', 'Medu', 'Fedu',\n",
       "       'Mjob', 'Fjob', 'reason', 'guardian', 'traveltime', 'studytime',\n",
       "       'failures', 'schoolsup', 'famsup', 'paid', 'activities', 'nursery',\n",
       "       'higher', 'internet', 'romantic', 'famrel', 'freetime', 'goout', 'Dalc',\n",
       "       'Walc', 'health', 'absences', 'G1', 'G2', 'G3'],\n",
       "      dtype='object')"
      ]
     },
     "metadata": {},
     "execution_count": 85
    }
   ],
   "source": [
    "student_data.columns"
   ]
  },
  {
   "source": [
    "## Data Cleaning"
   ],
   "cell_type": "markdown",
   "metadata": {}
  },
  {
   "source": [
    "Only keep columns with information that I will be using. Rename these columns for understandability."
   ],
   "cell_type": "markdown",
   "metadata": {}
  },
  {
   "cell_type": "code",
   "execution_count": 86,
   "metadata": {},
   "outputs": [],
   "source": [
    "student_data = student_data[[\"studytime\", \"freetime\", \"goout\", \"Dalc\", \"Walc\",\"G1\", \"G2\", \"G3\"]]\n",
    "# \n",
    "student_data.columns = [\"study_time\", \"free_time\", \"go_out\", \"weekday_alc\", \"weekend_alc\", \"q1_grade\", \"q2_grade\", \"final_grade\"]\n",
    "# "
   ]
  },
  {
   "cell_type": "code",
   "execution_count": 87,
   "metadata": {},
   "outputs": [
    {
     "output_type": "execute_result",
     "data": {
      "text/plain": [
       "     study_time  free_time  go_out  weekday_alc  weekend_alc  q1_grade  \\\n",
       "0             2          3       4            1            1         5   \n",
       "1             2          3       3            1            1         5   \n",
       "2             2          3       2            2            3         7   \n",
       "3             3          2       2            1            1        15   \n",
       "4             2          3       2            1            2         6   \n",
       "..          ...        ...     ...          ...          ...       ...   \n",
       "390           2          5       4            4            5         9   \n",
       "391           1          4       5            3            4        14   \n",
       "392           1          5       3            3            3        10   \n",
       "393           1          4       1            3            4        11   \n",
       "394           1          2       3            3            3         8   \n",
       "\n",
       "     q2_grade  final_grade  \n",
       "0           6            6  \n",
       "1           5            6  \n",
       "2           8           10  \n",
       "3          14           15  \n",
       "4          10           10  \n",
       "..        ...          ...  \n",
       "390         9            9  \n",
       "391        16           16  \n",
       "392         8            7  \n",
       "393        12           10  \n",
       "394         9            9  \n",
       "\n",
       "[395 rows x 8 columns]"
      ],
      "text/html": "<div>\n<style scoped>\n    .dataframe tbody tr th:only-of-type {\n        vertical-align: middle;\n    }\n\n    .dataframe tbody tr th {\n        vertical-align: top;\n    }\n\n    .dataframe thead th {\n        text-align: right;\n    }\n</style>\n<table border=\"1\" class=\"dataframe\">\n  <thead>\n    <tr style=\"text-align: right;\">\n      <th></th>\n      <th>study_time</th>\n      <th>free_time</th>\n      <th>go_out</th>\n      <th>weekday_alc</th>\n      <th>weekend_alc</th>\n      <th>q1_grade</th>\n      <th>q2_grade</th>\n      <th>final_grade</th>\n    </tr>\n  </thead>\n  <tbody>\n    <tr>\n      <th>0</th>\n      <td>2</td>\n      <td>3</td>\n      <td>4</td>\n      <td>1</td>\n      <td>1</td>\n      <td>5</td>\n      <td>6</td>\n      <td>6</td>\n    </tr>\n    <tr>\n      <th>1</th>\n      <td>2</td>\n      <td>3</td>\n      <td>3</td>\n      <td>1</td>\n      <td>1</td>\n      <td>5</td>\n      <td>5</td>\n      <td>6</td>\n    </tr>\n    <tr>\n      <th>2</th>\n      <td>2</td>\n      <td>3</td>\n      <td>2</td>\n      <td>2</td>\n      <td>3</td>\n      <td>7</td>\n      <td>8</td>\n      <td>10</td>\n    </tr>\n    <tr>\n      <th>3</th>\n      <td>3</td>\n      <td>2</td>\n      <td>2</td>\n      <td>1</td>\n      <td>1</td>\n      <td>15</td>\n      <td>14</td>\n      <td>15</td>\n    </tr>\n    <tr>\n      <th>4</th>\n      <td>2</td>\n      <td>3</td>\n      <td>2</td>\n      <td>1</td>\n      <td>2</td>\n      <td>6</td>\n      <td>10</td>\n      <td>10</td>\n    </tr>\n    <tr>\n      <th>...</th>\n      <td>...</td>\n      <td>...</td>\n      <td>...</td>\n      <td>...</td>\n      <td>...</td>\n      <td>...</td>\n      <td>...</td>\n      <td>...</td>\n    </tr>\n    <tr>\n      <th>390</th>\n      <td>2</td>\n      <td>5</td>\n      <td>4</td>\n      <td>4</td>\n      <td>5</td>\n      <td>9</td>\n      <td>9</td>\n      <td>9</td>\n    </tr>\n    <tr>\n      <th>391</th>\n      <td>1</td>\n      <td>4</td>\n      <td>5</td>\n      <td>3</td>\n      <td>4</td>\n      <td>14</td>\n      <td>16</td>\n      <td>16</td>\n    </tr>\n    <tr>\n      <th>392</th>\n      <td>1</td>\n      <td>5</td>\n      <td>3</td>\n      <td>3</td>\n      <td>3</td>\n      <td>10</td>\n      <td>8</td>\n      <td>7</td>\n    </tr>\n    <tr>\n      <th>393</th>\n      <td>1</td>\n      <td>4</td>\n      <td>1</td>\n      <td>3</td>\n      <td>4</td>\n      <td>11</td>\n      <td>12</td>\n      <td>10</td>\n    </tr>\n    <tr>\n      <th>394</th>\n      <td>1</td>\n      <td>2</td>\n      <td>3</td>\n      <td>3</td>\n      <td>3</td>\n      <td>8</td>\n      <td>9</td>\n      <td>9</td>\n    </tr>\n  </tbody>\n</table>\n<p>395 rows × 8 columns</p>\n</div>"
     },
     "metadata": {},
     "execution_count": 87
    }
   ],
   "source": [
    "student_data"
   ]
  },
  {
   "source": [
    "## Data Analysis & Results"
   ],
   "cell_type": "markdown",
   "metadata": {}
  },
  {
   "source": [
    "Look at some of the dataset statistics to gain a better understanding."
   ],
   "cell_type": "markdown",
   "metadata": {}
  },
  {
   "cell_type": "code",
   "execution_count": 88,
   "metadata": {},
   "outputs": [
    {
     "output_type": "execute_result",
     "data": {
      "text/plain": [
       "       study_time   free_time      go_out  weekday_alc  weekend_alc  \\\n",
       "count  395.000000  395.000000  395.000000   395.000000   395.000000   \n",
       "mean     2.035443    3.235443    3.108861     1.481013     2.291139   \n",
       "std      0.839240    0.998862    1.113278     0.890741     1.287897   \n",
       "min      1.000000    1.000000    1.000000     1.000000     1.000000   \n",
       "25%      1.000000    3.000000    2.000000     1.000000     1.000000   \n",
       "50%      2.000000    3.000000    3.000000     1.000000     2.000000   \n",
       "75%      2.000000    4.000000    4.000000     2.000000     3.000000   \n",
       "max      4.000000    5.000000    5.000000     5.000000     5.000000   \n",
       "\n",
       "         q1_grade    q2_grade  final_grade  \n",
       "count  395.000000  395.000000   395.000000  \n",
       "mean    10.908861   10.713924    10.415190  \n",
       "std      3.319195    3.761505     4.581443  \n",
       "min      3.000000    0.000000     0.000000  \n",
       "25%      8.000000    9.000000     8.000000  \n",
       "50%     11.000000   11.000000    11.000000  \n",
       "75%     13.000000   13.000000    14.000000  \n",
       "max     19.000000   19.000000    20.000000  "
      ],
      "text/html": "<div>\n<style scoped>\n    .dataframe tbody tr th:only-of-type {\n        vertical-align: middle;\n    }\n\n    .dataframe tbody tr th {\n        vertical-align: top;\n    }\n\n    .dataframe thead th {\n        text-align: right;\n    }\n</style>\n<table border=\"1\" class=\"dataframe\">\n  <thead>\n    <tr style=\"text-align: right;\">\n      <th></th>\n      <th>study_time</th>\n      <th>free_time</th>\n      <th>go_out</th>\n      <th>weekday_alc</th>\n      <th>weekend_alc</th>\n      <th>q1_grade</th>\n      <th>q2_grade</th>\n      <th>final_grade</th>\n    </tr>\n  </thead>\n  <tbody>\n    <tr>\n      <th>count</th>\n      <td>395.000000</td>\n      <td>395.000000</td>\n      <td>395.000000</td>\n      <td>395.000000</td>\n      <td>395.000000</td>\n      <td>395.000000</td>\n      <td>395.000000</td>\n      <td>395.000000</td>\n    </tr>\n    <tr>\n      <th>mean</th>\n      <td>2.035443</td>\n      <td>3.235443</td>\n      <td>3.108861</td>\n      <td>1.481013</td>\n      <td>2.291139</td>\n      <td>10.908861</td>\n      <td>10.713924</td>\n      <td>10.415190</td>\n    </tr>\n    <tr>\n      <th>std</th>\n      <td>0.839240</td>\n      <td>0.998862</td>\n      <td>1.113278</td>\n      <td>0.890741</td>\n      <td>1.287897</td>\n      <td>3.319195</td>\n      <td>3.761505</td>\n      <td>4.581443</td>\n    </tr>\n    <tr>\n      <th>min</th>\n      <td>1.000000</td>\n      <td>1.000000</td>\n      <td>1.000000</td>\n      <td>1.000000</td>\n      <td>1.000000</td>\n      <td>3.000000</td>\n      <td>0.000000</td>\n      <td>0.000000</td>\n    </tr>\n    <tr>\n      <th>25%</th>\n      <td>1.000000</td>\n      <td>3.000000</td>\n      <td>2.000000</td>\n      <td>1.000000</td>\n      <td>1.000000</td>\n      <td>8.000000</td>\n      <td>9.000000</td>\n      <td>8.000000</td>\n    </tr>\n    <tr>\n      <th>50%</th>\n      <td>2.000000</td>\n      <td>3.000000</td>\n      <td>3.000000</td>\n      <td>1.000000</td>\n      <td>2.000000</td>\n      <td>11.000000</td>\n      <td>11.000000</td>\n      <td>11.000000</td>\n    </tr>\n    <tr>\n      <th>75%</th>\n      <td>2.000000</td>\n      <td>4.000000</td>\n      <td>4.000000</td>\n      <td>2.000000</td>\n      <td>3.000000</td>\n      <td>13.000000</td>\n      <td>13.000000</td>\n      <td>14.000000</td>\n    </tr>\n    <tr>\n      <th>max</th>\n      <td>4.000000</td>\n      <td>5.000000</td>\n      <td>5.000000</td>\n      <td>5.000000</td>\n      <td>5.000000</td>\n      <td>19.000000</td>\n      <td>19.000000</td>\n      <td>20.000000</td>\n    </tr>\n  </tbody>\n</table>\n</div>"
     },
     "metadata": {},
     "execution_count": 88
    }
   ],
   "source": [
    "student_data.describe()"
   ]
  },
  {
   "source": [
    "Split the data into X and y datasets. I want to predict final_grade based on the other columns."
   ],
   "cell_type": "markdown",
   "metadata": {}
  },
  {
   "cell_type": "code",
   "execution_count": 89,
   "metadata": {},
   "outputs": [],
   "source": [
    "predict_label = \"final_grade\"\n",
    "X = np.array(student_data.drop(predict_label, axis=1))\n",
    "y = np.array(student_data[predict_label])"
   ]
  },
  {
   "cell_type": "code",
   "execution_count": 90,
   "metadata": {},
   "outputs": [],
   "source": [
    "# split into training and test sets (90/10 split)\n",
    "X_train, X_test, y_train, y_test = sklearn.model_selection.train_test_split(X, y, test_size=0.1)"
   ]
  },
  {
   "source": [
    "Train the linear regression model many times and keep the one with the highest accuracy."
   ],
   "cell_type": "markdown",
   "metadata": {}
  },
  {
   "cell_type": "code",
   "execution_count": 98,
   "metadata": {},
   "outputs": [],
   "source": [
    "# comment out this block to avoid retraining the model\n",
    "highest_accuracy = 0\n",
    "num_runs = 50\n",
    "# train the model multiple times\n",
    "for _ in range(num_runs):\n",
    "    X_train, X_test, y_train, y_test = sklearn.model_selection.train_test_split(X, y, test_size=0.1)\n",
    "    # fit a linear model\n",
    "    reg = linear_model.LinearRegression().fit(X_train, y_train)\n",
    "    accuracy = reg.score(X_test, y_test)\n",
    "    if accuracy > highest_accuracy:\n",
    "        highest_accuracy = accuracy\n",
    "        with open(\"student_model.pickle\", \"wb\") as f:\n",
    "                # save the model in an external file\n",
    "                pickle.dump(reg, f)"
   ]
  },
  {
   "cell_type": "code",
   "execution_count": 102,
   "metadata": {},
   "outputs": [
    {
     "output_type": "stream",
     "name": "stdout",
     "text": [
      "The best model had accuracy 92.55392394419097\n"
     ]
    }
   ],
   "source": [
    "# load the model\n",
    "pickle_in = open(\"student_model.pickle\", \"rb\")\n",
    "reg = pickle.load(pickle_in)\n",
    "\n",
    "print(\"The best model had accuracy\", highest_accuracy * 100)\n",
    "#print(reg.coef_)\n",
    "#print(reg.intercept_)"
   ]
  },
  {
   "cell_type": "code",
   "execution_count": 93,
   "metadata": {},
   "outputs": [
    {
     "output_type": "stream",
     "name": "stdout",
     "text": [
      "[ 2  4  5  1  1 10 11] 10.505993854696081 9\n[1 4 5 1 1 6 0] -0.8635775059200057 0\n[ 2  3  3  2  2 10 10] 9.40964134005649 0\n[ 2  3  3  2  3 10 11] 10.5110926239 12\n[ 2  3  3  1  1 19 18] 18.772950603372806 18\n[ 1  2  1  1  1 11 11] 10.578674743958699 12\n[4 5 5 2 4 9 8] 7.451214083907152 8\n[1 5 5 5 5 7 7] 6.319145594197607 5\n[1 5 1 1 1 8 7] 6.453240029097659 6\n[ 1  5  5  3  4 11 11] 11.029698579579621 10\n[1 4 5 2 4 6 8] 7.25927461214428 8\n[2 4 4 1 1 8 7] 6.228502718246997 8\n[ 3  3  3  1  3 10  9] 8.516402937980947 10\n[ 2  4  4  1  1 12 12] 11.815734917266239 11\n[ 1  4  4  1  3 10 13] 12.839008676302141 12\n[2 4 3 1 2 5 5] 3.8745527516232148 5\n[ 2  4  3  1  1 14 12] 12.139299119509015 12\n[ 2  3  4  2  3 10  9] 8.543348649693636 0\n[1 4 5 2 4 6 5] 4.300744031162142 0\n[ 3  4  3  3  4 10  9] 8.510749841119209 9\n[1 5 5 1 3 6 5] 4.401700192577565 5\n[ 3  3  2  1  2 11 10] 9.546782602689388 11\n[2 3 3 2 3 9 9] 8.374651928899654 8\n[ 2  4  3  1  2 16 15] 15.541278072698455 15\n[ 3  2  2  1  1 10 12] 11.135930375654018 12\n[2 3 4 1 4 6 5] 4.169953769621044 6\n[1 4 4 1 2 7 9] 8.286765888439733 8\n[ 2  3  2  1  4 12 11] 11.062317284762047 11\n[ 4  2  2  1  1 19 19] 19.381229166688513 20\n[ 2  5  5  4  4 10 12] 11.604680430090841 12\n[2 3 5 1 2 6 0] -0.9868696325997208 0\n[ 1  4  4  3  3 14 14] 14.256761363805582 13\n[ 2  4  4  3  3 11 11] 10.67124785941925 11\n[ 1  2  4  2  3 18 18] 18.762513637943762 18\n[ 2  3  2  1  1 14 15] 14.989375404214348 15\n[2 3 3 2 3 9 9] 8.374651928899654 10\n[ 3  3  3  1  2 11 10] 9.551392349137783 10\n[ 3  2  4  1  3 15 14] 14.16848730796576 14\n[ 1  4  4  1  2 14 14] 14.366259010495734 14\n[2 1 3 1 3 8 9] 8.115261890000385 8\n"
     ]
    }
   ],
   "source": [
    "# predict grades of test inputs\n",
    "pred_grades = reg.predict(X_test)\n",
    "for i in range(len(pred_grades)):\n",
    "    print(X_test[i], pred_grades[i], y_test[i])"
   ]
  }
 ]
}